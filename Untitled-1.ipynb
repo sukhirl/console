{
 "cells": [
  {
   "cell_type": "code",
   "execution_count": null,
   "metadata": {},
   "outputs": [],
   "source": [
    "<html>\n",
    "<head>\n",
    "<title> PROJECT ON CONSOLE</title>\n",
    "</head>\n",
    "<body>\n",
    "<p> write about visiual studio and how to set it up write about console screen.and why it is use.and how to open consel screen and how to print anything in console."
   ]
  }
 ],
 "metadata": {
  "language_info": {
   "name": "python"
  },
  "orig_nbformat": 4
 },
 "nbformat": 4,
 "nbformat_minor": 2
}
